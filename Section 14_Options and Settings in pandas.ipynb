{
 "cells": [
  {
   "cell_type": "code",
   "execution_count": 1,
   "id": "1e837abe",
   "metadata": {},
   "outputs": [],
   "source": [
    "import pandas as pd\n",
    "import numpy as np"
   ]
  },
  {
   "cell_type": "markdown",
   "id": "e3dc5818",
   "metadata": {},
   "source": [
    "## Changing pandas options with Attributes and Dot syntax"
   ]
  },
  {
   "cell_type": "code",
   "execution_count": 2,
   "id": "229ec6fc",
   "metadata": {},
   "outputs": [
    {
     "data": {
      "text/html": [
       "<div>\n",
       "<style scoped>\n",
       "    .dataframe tbody tr th:only-of-type {\n",
       "        vertical-align: middle;\n",
       "    }\n",
       "\n",
       "    .dataframe tbody tr th {\n",
       "        vertical-align: top;\n",
       "    }\n",
       "\n",
       "    .dataframe thead th {\n",
       "        text-align: right;\n",
       "    }\n",
       "</style>\n",
       "<table border=\"1\" class=\"dataframe\">\n",
       "  <thead>\n",
       "    <tr style=\"text-align: right;\">\n",
       "      <th></th>\n",
       "      <th>0</th>\n",
       "      <th>1</th>\n",
       "      <th>2</th>\n",
       "      <th>3</th>\n",
       "      <th>4</th>\n",
       "      <th>5</th>\n",
       "      <th>6</th>\n",
       "      <th>7</th>\n",
       "      <th>8</th>\n",
       "      <th>9</th>\n",
       "      <th>...</th>\n",
       "      <th>40</th>\n",
       "      <th>41</th>\n",
       "      <th>42</th>\n",
       "      <th>43</th>\n",
       "      <th>44</th>\n",
       "      <th>45</th>\n",
       "      <th>46</th>\n",
       "      <th>47</th>\n",
       "      <th>48</th>\n",
       "      <th>49</th>\n",
       "    </tr>\n",
       "  </thead>\n",
       "  <tbody>\n",
       "    <tr>\n",
       "      <th>998</th>\n",
       "      <td>58</td>\n",
       "      <td>44</td>\n",
       "      <td>49</td>\n",
       "      <td>50</td>\n",
       "      <td>64</td>\n",
       "      <td>10</td>\n",
       "      <td>29</td>\n",
       "      <td>92</td>\n",
       "      <td>77</td>\n",
       "      <td>27</td>\n",
       "      <td>...</td>\n",
       "      <td>85</td>\n",
       "      <td>18</td>\n",
       "      <td>55</td>\n",
       "      <td>94</td>\n",
       "      <td>49</td>\n",
       "      <td>10</td>\n",
       "      <td>41</td>\n",
       "      <td>36</td>\n",
       "      <td>10</td>\n",
       "      <td>66</td>\n",
       "    </tr>\n",
       "    <tr>\n",
       "      <th>999</th>\n",
       "      <td>95</td>\n",
       "      <td>73</td>\n",
       "      <td>53</td>\n",
       "      <td>22</td>\n",
       "      <td>97</td>\n",
       "      <td>8</td>\n",
       "      <td>55</td>\n",
       "      <td>28</td>\n",
       "      <td>6</td>\n",
       "      <td>64</td>\n",
       "      <td>...</td>\n",
       "      <td>17</td>\n",
       "      <td>63</td>\n",
       "      <td>84</td>\n",
       "      <td>89</td>\n",
       "      <td>7</td>\n",
       "      <td>15</td>\n",
       "      <td>19</td>\n",
       "      <td>11</td>\n",
       "      <td>14</td>\n",
       "      <td>32</td>\n",
       "    </tr>\n",
       "  </tbody>\n",
       "</table>\n",
       "<p>2 rows × 50 columns</p>\n",
       "</div>"
      ],
      "text/plain": [
       "     0   1   2   3   4   5   6   7   8   9   ...  40  41  42  43  44  45  46  \\\n",
       "998  58  44  49  50  64  10  29  92  77  27  ...  85  18  55  94  49  10  41   \n",
       "999  95  73  53  22  97   8  55  28   6  64  ...  17  63  84  89   7  15  19   \n",
       "\n",
       "     47  48  49  \n",
       "998  36  10  66  \n",
       "999  11  14  32  \n",
       "\n",
       "[2 rows x 50 columns]"
      ]
     },
     "execution_count": 2,
     "metadata": {},
     "output_type": "execute_result"
    }
   ],
   "source": [
    "data = np.random.randint(0, 100, [1000, 50]) # 1000 rows and 50 columns for number within 0 to 100\n",
    "df = pd.DataFrame(data)\n",
    "df.tail(2)"
   ]
  },
  {
   "cell_type": "code",
   "execution_count": 3,
   "id": "4bc1453c",
   "metadata": {},
   "outputs": [
    {
     "data": {
      "text/plain": [
       "60"
      ]
     },
     "execution_count": 3,
     "metadata": {},
     "output_type": "execute_result"
    }
   ],
   "source": [
    "pd.options.display.max_rows"
   ]
  },
  {
   "cell_type": "code",
   "execution_count": 4,
   "id": "5cf910a5",
   "metadata": {},
   "outputs": [
    {
     "data": {
      "text/html": [
       "<div>\n",
       "<style scoped>\n",
       "    .dataframe tbody tr th:only-of-type {\n",
       "        vertical-align: middle;\n",
       "    }\n",
       "\n",
       "    .dataframe tbody tr th {\n",
       "        vertical-align: top;\n",
       "    }\n",
       "\n",
       "    .dataframe thead th {\n",
       "        text-align: right;\n",
       "    }\n",
       "</style>\n",
       "<table border=\"1\" class=\"dataframe\">\n",
       "  <thead>\n",
       "    <tr style=\"text-align: right;\">\n",
       "      <th></th>\n",
       "      <th>0</th>\n",
       "      <th>1</th>\n",
       "      <th>2</th>\n",
       "      <th>3</th>\n",
       "      <th>4</th>\n",
       "      <th>5</th>\n",
       "      <th>6</th>\n",
       "      <th>7</th>\n",
       "      <th>8</th>\n",
       "      <th>9</th>\n",
       "      <th>...</th>\n",
       "      <th>40</th>\n",
       "      <th>41</th>\n",
       "      <th>42</th>\n",
       "      <th>43</th>\n",
       "      <th>44</th>\n",
       "      <th>45</th>\n",
       "      <th>46</th>\n",
       "      <th>47</th>\n",
       "      <th>48</th>\n",
       "      <th>49</th>\n",
       "    </tr>\n",
       "  </thead>\n",
       "  <tbody>\n",
       "    <tr>\n",
       "      <th>0</th>\n",
       "      <td>43</td>\n",
       "      <td>89</td>\n",
       "      <td>91</td>\n",
       "      <td>48</td>\n",
       "      <td>42</td>\n",
       "      <td>97</td>\n",
       "      <td>72</td>\n",
       "      <td>68</td>\n",
       "      <td>27</td>\n",
       "      <td>73</td>\n",
       "      <td>...</td>\n",
       "      <td>14</td>\n",
       "      <td>4</td>\n",
       "      <td>5</td>\n",
       "      <td>27</td>\n",
       "      <td>23</td>\n",
       "      <td>71</td>\n",
       "      <td>81</td>\n",
       "      <td>78</td>\n",
       "      <td>65</td>\n",
       "      <td>47</td>\n",
       "    </tr>\n",
       "    <tr>\n",
       "      <th>1</th>\n",
       "      <td>98</td>\n",
       "      <td>2</td>\n",
       "      <td>21</td>\n",
       "      <td>58</td>\n",
       "      <td>51</td>\n",
       "      <td>72</td>\n",
       "      <td>28</td>\n",
       "      <td>70</td>\n",
       "      <td>82</td>\n",
       "      <td>68</td>\n",
       "      <td>...</td>\n",
       "      <td>11</td>\n",
       "      <td>30</td>\n",
       "      <td>93</td>\n",
       "      <td>32</td>\n",
       "      <td>7</td>\n",
       "      <td>38</td>\n",
       "      <td>80</td>\n",
       "      <td>60</td>\n",
       "      <td>6</td>\n",
       "      <td>47</td>\n",
       "    </tr>\n",
       "    <tr>\n",
       "      <th>2</th>\n",
       "      <td>49</td>\n",
       "      <td>11</td>\n",
       "      <td>21</td>\n",
       "      <td>15</td>\n",
       "      <td>10</td>\n",
       "      <td>59</td>\n",
       "      <td>10</td>\n",
       "      <td>37</td>\n",
       "      <td>53</td>\n",
       "      <td>91</td>\n",
       "      <td>...</td>\n",
       "      <td>69</td>\n",
       "      <td>30</td>\n",
       "      <td>77</td>\n",
       "      <td>34</td>\n",
       "      <td>10</td>\n",
       "      <td>45</td>\n",
       "      <td>85</td>\n",
       "      <td>22</td>\n",
       "      <td>98</td>\n",
       "      <td>79</td>\n",
       "    </tr>\n",
       "    <tr>\n",
       "      <th>3</th>\n",
       "      <td>69</td>\n",
       "      <td>98</td>\n",
       "      <td>20</td>\n",
       "      <td>98</td>\n",
       "      <td>85</td>\n",
       "      <td>31</td>\n",
       "      <td>72</td>\n",
       "      <td>47</td>\n",
       "      <td>52</td>\n",
       "      <td>18</td>\n",
       "      <td>...</td>\n",
       "      <td>14</td>\n",
       "      <td>13</td>\n",
       "      <td>63</td>\n",
       "      <td>67</td>\n",
       "      <td>88</td>\n",
       "      <td>90</td>\n",
       "      <td>60</td>\n",
       "      <td>60</td>\n",
       "      <td>8</td>\n",
       "      <td>82</td>\n",
       "    </tr>\n",
       "    <tr>\n",
       "      <th>4</th>\n",
       "      <td>47</td>\n",
       "      <td>69</td>\n",
       "      <td>86</td>\n",
       "      <td>75</td>\n",
       "      <td>60</td>\n",
       "      <td>35</td>\n",
       "      <td>49</td>\n",
       "      <td>53</td>\n",
       "      <td>40</td>\n",
       "      <td>86</td>\n",
       "      <td>...</td>\n",
       "      <td>30</td>\n",
       "      <td>64</td>\n",
       "      <td>98</td>\n",
       "      <td>33</td>\n",
       "      <td>9</td>\n",
       "      <td>77</td>\n",
       "      <td>62</td>\n",
       "      <td>15</td>\n",
       "      <td>71</td>\n",
       "      <td>43</td>\n",
       "    </tr>\n",
       "    <tr>\n",
       "      <th>...</th>\n",
       "      <td>...</td>\n",
       "      <td>...</td>\n",
       "      <td>...</td>\n",
       "      <td>...</td>\n",
       "      <td>...</td>\n",
       "      <td>...</td>\n",
       "      <td>...</td>\n",
       "      <td>...</td>\n",
       "      <td>...</td>\n",
       "      <td>...</td>\n",
       "      <td>...</td>\n",
       "      <td>...</td>\n",
       "      <td>...</td>\n",
       "      <td>...</td>\n",
       "      <td>...</td>\n",
       "      <td>...</td>\n",
       "      <td>...</td>\n",
       "      <td>...</td>\n",
       "      <td>...</td>\n",
       "      <td>...</td>\n",
       "      <td>...</td>\n",
       "    </tr>\n",
       "    <tr>\n",
       "      <th>995</th>\n",
       "      <td>2</td>\n",
       "      <td>81</td>\n",
       "      <td>0</td>\n",
       "      <td>69</td>\n",
       "      <td>86</td>\n",
       "      <td>61</td>\n",
       "      <td>22</td>\n",
       "      <td>12</td>\n",
       "      <td>2</td>\n",
       "      <td>77</td>\n",
       "      <td>...</td>\n",
       "      <td>42</td>\n",
       "      <td>20</td>\n",
       "      <td>88</td>\n",
       "      <td>63</td>\n",
       "      <td>30</td>\n",
       "      <td>89</td>\n",
       "      <td>44</td>\n",
       "      <td>20</td>\n",
       "      <td>89</td>\n",
       "      <td>30</td>\n",
       "    </tr>\n",
       "    <tr>\n",
       "      <th>996</th>\n",
       "      <td>95</td>\n",
       "      <td>84</td>\n",
       "      <td>41</td>\n",
       "      <td>16</td>\n",
       "      <td>40</td>\n",
       "      <td>69</td>\n",
       "      <td>65</td>\n",
       "      <td>17</td>\n",
       "      <td>70</td>\n",
       "      <td>16</td>\n",
       "      <td>...</td>\n",
       "      <td>38</td>\n",
       "      <td>14</td>\n",
       "      <td>55</td>\n",
       "      <td>58</td>\n",
       "      <td>48</td>\n",
       "      <td>60</td>\n",
       "      <td>9</td>\n",
       "      <td>70</td>\n",
       "      <td>74</td>\n",
       "      <td>19</td>\n",
       "    </tr>\n",
       "    <tr>\n",
       "      <th>997</th>\n",
       "      <td>75</td>\n",
       "      <td>95</td>\n",
       "      <td>71</td>\n",
       "      <td>27</td>\n",
       "      <td>84</td>\n",
       "      <td>61</td>\n",
       "      <td>87</td>\n",
       "      <td>15</td>\n",
       "      <td>21</td>\n",
       "      <td>13</td>\n",
       "      <td>...</td>\n",
       "      <td>6</td>\n",
       "      <td>91</td>\n",
       "      <td>99</td>\n",
       "      <td>94</td>\n",
       "      <td>94</td>\n",
       "      <td>91</td>\n",
       "      <td>37</td>\n",
       "      <td>8</td>\n",
       "      <td>68</td>\n",
       "      <td>14</td>\n",
       "    </tr>\n",
       "    <tr>\n",
       "      <th>998</th>\n",
       "      <td>58</td>\n",
       "      <td>44</td>\n",
       "      <td>49</td>\n",
       "      <td>50</td>\n",
       "      <td>64</td>\n",
       "      <td>10</td>\n",
       "      <td>29</td>\n",
       "      <td>92</td>\n",
       "      <td>77</td>\n",
       "      <td>27</td>\n",
       "      <td>...</td>\n",
       "      <td>85</td>\n",
       "      <td>18</td>\n",
       "      <td>55</td>\n",
       "      <td>94</td>\n",
       "      <td>49</td>\n",
       "      <td>10</td>\n",
       "      <td>41</td>\n",
       "      <td>36</td>\n",
       "      <td>10</td>\n",
       "      <td>66</td>\n",
       "    </tr>\n",
       "    <tr>\n",
       "      <th>999</th>\n",
       "      <td>95</td>\n",
       "      <td>73</td>\n",
       "      <td>53</td>\n",
       "      <td>22</td>\n",
       "      <td>97</td>\n",
       "      <td>8</td>\n",
       "      <td>55</td>\n",
       "      <td>28</td>\n",
       "      <td>6</td>\n",
       "      <td>64</td>\n",
       "      <td>...</td>\n",
       "      <td>17</td>\n",
       "      <td>63</td>\n",
       "      <td>84</td>\n",
       "      <td>89</td>\n",
       "      <td>7</td>\n",
       "      <td>15</td>\n",
       "      <td>19</td>\n",
       "      <td>11</td>\n",
       "      <td>14</td>\n",
       "      <td>32</td>\n",
       "    </tr>\n",
       "  </tbody>\n",
       "</table>\n",
       "<p>1000 rows × 50 columns</p>\n",
       "</div>"
      ],
      "text/plain": [
       "     0   1   2   3   4   5   6   7   8   9   ...  40  41  42  43  44  45  46  \\\n",
       "0    43  89  91  48  42  97  72  68  27  73  ...  14   4   5  27  23  71  81   \n",
       "1    98   2  21  58  51  72  28  70  82  68  ...  11  30  93  32   7  38  80   \n",
       "2    49  11  21  15  10  59  10  37  53  91  ...  69  30  77  34  10  45  85   \n",
       "3    69  98  20  98  85  31  72  47  52  18  ...  14  13  63  67  88  90  60   \n",
       "4    47  69  86  75  60  35  49  53  40  86  ...  30  64  98  33   9  77  62   \n",
       "..   ..  ..  ..  ..  ..  ..  ..  ..  ..  ..  ...  ..  ..  ..  ..  ..  ..  ..   \n",
       "995   2  81   0  69  86  61  22  12   2  77  ...  42  20  88  63  30  89  44   \n",
       "996  95  84  41  16  40  69  65  17  70  16  ...  38  14  55  58  48  60   9   \n",
       "997  75  95  71  27  84  61  87  15  21  13  ...   6  91  99  94  94  91  37   \n",
       "998  58  44  49  50  64  10  29  92  77  27  ...  85  18  55  94  49  10  41   \n",
       "999  95  73  53  22  97   8  55  28   6  64  ...  17  63  84  89   7  15  19   \n",
       "\n",
       "     47  48  49  \n",
       "0    78  65  47  \n",
       "1    60   6  47  \n",
       "2    22  98  79  \n",
       "3    60   8  82  \n",
       "4    15  71  43  \n",
       "..   ..  ..  ..  \n",
       "995  20  89  30  \n",
       "996  70  74  19  \n",
       "997   8  68  14  \n",
       "998  36  10  66  \n",
       "999  11  14  32  \n",
       "\n",
       "[1000 rows x 50 columns]"
      ]
     },
     "execution_count": 4,
     "metadata": {},
     "output_type": "execute_result"
    }
   ],
   "source": [
    "df"
   ]
  },
  {
   "cell_type": "code",
   "execution_count": 5,
   "id": "cf48d6d8",
   "metadata": {},
   "outputs": [],
   "source": [
    "pd.options.display.max_rows = 20"
   ]
  },
  {
   "cell_type": "code",
   "execution_count": 6,
   "id": "f2733b66",
   "metadata": {},
   "outputs": [
    {
     "data": {
      "text/plain": [
       "20"
      ]
     },
     "execution_count": 6,
     "metadata": {},
     "output_type": "execute_result"
    }
   ],
   "source": [
    "pd.options.display.max_rows"
   ]
  },
  {
   "cell_type": "code",
   "execution_count": 7,
   "id": "c89b1150",
   "metadata": {},
   "outputs": [
    {
     "data": {
      "text/plain": [
       "20"
      ]
     },
     "execution_count": 7,
     "metadata": {},
     "output_type": "execute_result"
    }
   ],
   "source": [
    "pd.options.display.max_columns"
   ]
  },
  {
   "cell_type": "markdown",
   "id": "cba73a5d",
   "metadata": {},
   "source": [
    "## Changing pandas options with methods"
   ]
  },
  {
   "cell_type": "code",
   "execution_count": 11,
   "id": "0e9153dd",
   "metadata": {},
   "outputs": [
    {
     "data": {
      "text/plain": [
       "20"
      ]
     },
     "execution_count": 11,
     "metadata": {},
     "output_type": "execute_result"
    }
   ],
   "source": [
    "pd.get_option('max_rows')"
   ]
  },
  {
   "cell_type": "code",
   "execution_count": 10,
   "id": "94f7f0ac",
   "metadata": {},
   "outputs": [
    {
     "data": {
      "text/plain": [
       "20"
      ]
     },
     "execution_count": 10,
     "metadata": {},
     "output_type": "execute_result"
    }
   ],
   "source": [
    "pd.get_option('max_columns')"
   ]
  },
  {
   "cell_type": "code",
   "execution_count": 12,
   "id": "93783da7",
   "metadata": {},
   "outputs": [],
   "source": [
    "pd.set_option('max_rows', 16)"
   ]
  },
  {
   "cell_type": "code",
   "execution_count": 13,
   "id": "02359435",
   "metadata": {},
   "outputs": [
    {
     "data": {
      "text/plain": [
       "16"
      ]
     },
     "execution_count": 13,
     "metadata": {},
     "output_type": "execute_result"
    }
   ],
   "source": [
    "pd.options.display.max_rows"
   ]
  },
  {
   "cell_type": "code",
   "execution_count": 16,
   "id": "c23532e6",
   "metadata": {},
   "outputs": [],
   "source": [
    "pd.reset_option('max_rows')"
   ]
  },
  {
   "cell_type": "code",
   "execution_count": 17,
   "id": "19d4ce14",
   "metadata": {},
   "outputs": [
    {
     "data": {
      "text/plain": [
       "60"
      ]
     },
     "execution_count": 17,
     "metadata": {},
     "output_type": "execute_result"
    }
   ],
   "source": [
    "pd.get_option('max_rows')"
   ]
  },
  {
   "cell_type": "code",
   "execution_count": 18,
   "id": "173faa04",
   "metadata": {},
   "outputs": [
    {
     "name": "stdout",
     "output_type": "stream",
     "text": [
      "display.max_columns : int\n",
      "    If max_cols is exceeded, switch to truncate view. Depending on\n",
      "    `large_repr`, objects are either centrally truncated or printed as\n",
      "    a summary view. 'None' value means unlimited.\n",
      "\n",
      "    In case python/IPython is running in a terminal and `large_repr`\n",
      "    equals 'truncate' this can be set to 0 and pandas will auto-detect\n",
      "    the width of the terminal and print a truncated object which fits\n",
      "    the screen width. The IPython notebook, IPython qtconsole, or IDLE\n",
      "    do not run in a terminal and hence it is not possible to do\n",
      "    correct auto-detection.\n",
      "    [default: 20] [currently: 20]\n"
     ]
    }
   ],
   "source": [
    "pd.describe_option('max_columns')"
   ]
  },
  {
   "cell_type": "markdown",
   "id": "ca40faba",
   "metadata": {},
   "source": [
    "## The precision options"
   ]
  },
  {
   "cell_type": "code",
   "execution_count": 20,
   "id": "e73f2d6b",
   "metadata": {},
   "outputs": [
    {
     "data": {
      "text/html": [
       "<div>\n",
       "<style scoped>\n",
       "    .dataframe tbody tr th:only-of-type {\n",
       "        vertical-align: middle;\n",
       "    }\n",
       "\n",
       "    .dataframe tbody tr th {\n",
       "        vertical-align: top;\n",
       "    }\n",
       "\n",
       "    .dataframe thead th {\n",
       "        text-align: right;\n",
       "    }\n",
       "</style>\n",
       "<table border=\"1\" class=\"dataframe\">\n",
       "  <thead>\n",
       "    <tr style=\"text-align: right;\">\n",
       "      <th></th>\n",
       "      <th>0</th>\n",
       "      <th>1</th>\n",
       "      <th>2</th>\n",
       "      <th>3</th>\n",
       "      <th>4</th>\n",
       "    </tr>\n",
       "  </thead>\n",
       "  <tbody>\n",
       "    <tr>\n",
       "      <th>0</th>\n",
       "      <td>-0.205013</td>\n",
       "      <td>-1.738373</td>\n",
       "      <td>1.507851</td>\n",
       "      <td>-0.730062</td>\n",
       "      <td>0.401420</td>\n",
       "    </tr>\n",
       "    <tr>\n",
       "      <th>1</th>\n",
       "      <td>-2.156570</td>\n",
       "      <td>-1.550229</td>\n",
       "      <td>-0.943140</td>\n",
       "      <td>1.281671</td>\n",
       "      <td>-0.895875</td>\n",
       "    </tr>\n",
       "    <tr>\n",
       "      <th>2</th>\n",
       "      <td>-2.282604</td>\n",
       "      <td>0.196025</td>\n",
       "      <td>1.318260</td>\n",
       "      <td>0.653187</td>\n",
       "      <td>0.818637</td>\n",
       "    </tr>\n",
       "    <tr>\n",
       "      <th>3</th>\n",
       "      <td>-0.570480</td>\n",
       "      <td>0.521340</td>\n",
       "      <td>-0.746913</td>\n",
       "      <td>-0.619872</td>\n",
       "      <td>1.616059</td>\n",
       "    </tr>\n",
       "    <tr>\n",
       "      <th>4</th>\n",
       "      <td>-0.266153</td>\n",
       "      <td>-0.522329</td>\n",
       "      <td>1.608853</td>\n",
       "      <td>0.769149</td>\n",
       "      <td>0.137498</td>\n",
       "    </tr>\n",
       "  </tbody>\n",
       "</table>\n",
       "</div>"
      ],
      "text/plain": [
       "          0         1         2         3         4\n",
       "0 -0.205013 -1.738373  1.507851 -0.730062  0.401420\n",
       "1 -2.156570 -1.550229 -0.943140  1.281671 -0.895875\n",
       "2 -2.282604  0.196025  1.318260  0.653187  0.818637\n",
       "3 -0.570480  0.521340 -0.746913 -0.619872  1.616059\n",
       "4 -0.266153 -0.522329  1.608853  0.769149  0.137498"
      ]
     },
     "execution_count": 20,
     "metadata": {},
     "output_type": "execute_result"
    }
   ],
   "source": [
    "df = pd.DataFrame(np.random.randn(5, 5))\n",
    "df"
   ]
  },
  {
   "cell_type": "code",
   "execution_count": 21,
   "id": "0fcd1096",
   "metadata": {},
   "outputs": [
    {
     "data": {
      "text/plain": [
       "6"
      ]
     },
     "execution_count": 21,
     "metadata": {},
     "output_type": "execute_result"
    }
   ],
   "source": [
    "pd.get_option('precision')"
   ]
  },
  {
   "cell_type": "code",
   "execution_count": 22,
   "id": "fe27b5fd",
   "metadata": {},
   "outputs": [],
   "source": [
    "pd.set_option('precision', 2)"
   ]
  },
  {
   "cell_type": "code",
   "execution_count": 23,
   "id": "0d79535a",
   "metadata": {},
   "outputs": [
    {
     "data": {
      "text/html": [
       "<div>\n",
       "<style scoped>\n",
       "    .dataframe tbody tr th:only-of-type {\n",
       "        vertical-align: middle;\n",
       "    }\n",
       "\n",
       "    .dataframe tbody tr th {\n",
       "        vertical-align: top;\n",
       "    }\n",
       "\n",
       "    .dataframe thead th {\n",
       "        text-align: right;\n",
       "    }\n",
       "</style>\n",
       "<table border=\"1\" class=\"dataframe\">\n",
       "  <thead>\n",
       "    <tr style=\"text-align: right;\">\n",
       "      <th></th>\n",
       "      <th>0</th>\n",
       "      <th>1</th>\n",
       "      <th>2</th>\n",
       "      <th>3</th>\n",
       "      <th>4</th>\n",
       "    </tr>\n",
       "  </thead>\n",
       "  <tbody>\n",
       "    <tr>\n",
       "      <th>0</th>\n",
       "      <td>-0.21</td>\n",
       "      <td>-1.74</td>\n",
       "      <td>1.51</td>\n",
       "      <td>-0.73</td>\n",
       "      <td>0.40</td>\n",
       "    </tr>\n",
       "    <tr>\n",
       "      <th>1</th>\n",
       "      <td>-2.16</td>\n",
       "      <td>-1.55</td>\n",
       "      <td>-0.94</td>\n",
       "      <td>1.28</td>\n",
       "      <td>-0.90</td>\n",
       "    </tr>\n",
       "    <tr>\n",
       "      <th>2</th>\n",
       "      <td>-2.28</td>\n",
       "      <td>0.20</td>\n",
       "      <td>1.32</td>\n",
       "      <td>0.65</td>\n",
       "      <td>0.82</td>\n",
       "    </tr>\n",
       "    <tr>\n",
       "      <th>3</th>\n",
       "      <td>-0.57</td>\n",
       "      <td>0.52</td>\n",
       "      <td>-0.75</td>\n",
       "      <td>-0.62</td>\n",
       "      <td>1.62</td>\n",
       "    </tr>\n",
       "    <tr>\n",
       "      <th>4</th>\n",
       "      <td>-0.27</td>\n",
       "      <td>-0.52</td>\n",
       "      <td>1.61</td>\n",
       "      <td>0.77</td>\n",
       "      <td>0.14</td>\n",
       "    </tr>\n",
       "  </tbody>\n",
       "</table>\n",
       "</div>"
      ],
      "text/plain": [
       "      0     1     2     3     4\n",
       "0 -0.21 -1.74  1.51 -0.73  0.40\n",
       "1 -2.16 -1.55 -0.94  1.28 -0.90\n",
       "2 -2.28  0.20  1.32  0.65  0.82\n",
       "3 -0.57  0.52 -0.75 -0.62  1.62\n",
       "4 -0.27 -0.52  1.61  0.77  0.14"
      ]
     },
     "execution_count": 23,
     "metadata": {},
     "output_type": "execute_result"
    }
   ],
   "source": [
    "df"
   ]
  },
  {
   "cell_type": "code",
   "execution_count": 24,
   "id": "bc3061a8",
   "metadata": {},
   "outputs": [],
   "source": [
    "pd.reset_option('Precision')"
   ]
  },
  {
   "cell_type": "code",
   "execution_count": 25,
   "id": "26c92050",
   "metadata": {},
   "outputs": [
    {
     "name": "stdout",
     "output_type": "stream",
     "text": [
      "display.precision : int\n",
      "    Floating point output precision in terms of number of places after the\n",
      "    decimal, for regular formatting as well as scientific notation. Similar\n",
      "    to ``precision`` in :meth:`numpy.set_printoptions`.\n",
      "    [default: 6] [currently: 6]\n"
     ]
    }
   ],
   "source": [
    "pd.describe_option('Precision')"
   ]
  }
 ],
 "metadata": {
  "kernelspec": {
   "display_name": "Python 3",
   "language": "python",
   "name": "python3"
  },
  "language_info": {
   "codemirror_mode": {
    "name": "ipython",
    "version": 3
   },
   "file_extension": ".py",
   "mimetype": "text/x-python",
   "name": "python",
   "nbconvert_exporter": "python",
   "pygments_lexer": "ipython3",
   "version": "3.8.8"
  }
 },
 "nbformat": 4,
 "nbformat_minor": 5
}
